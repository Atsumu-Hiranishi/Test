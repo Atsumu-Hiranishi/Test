{
  "nbformat": 4,
  "nbformat_minor": 0,
  "metadata": {
    "colab": {
      "provenance": [],
      "authorship_tag": "ABX9TyOsWPpXLz9CwG7rvzW36GbM",
      "include_colab_link": true
    },
    "kernelspec": {
      "name": "python3",
      "display_name": "Python 3"
    },
    "language_info": {
      "name": "python"
    }
  },
  "cells": [
    {
      "cell_type": "markdown",
      "metadata": {
        "id": "view-in-github",
        "colab_type": "text"
      },
      "source": [
        "<a href=\"https://colab.research.google.com/github/Atsumu-Hiranishi/Test/blob/main/Opposite_category's_monad.ipynb\" target=\"_parent\"><img src=\"https://colab.research.google.com/assets/colab-badge.svg\" alt=\"Open In Colab\"/></a>"
      ]
    },
    {
      "cell_type": "markdown",
      "source": [
        "#双対圏のモナドが圏のコモナドになる証明\n",
        "\n",
        "prf.<br>\n",
        "圏$\\mathcal{C}$の双対圏を$\\mathcal{C}^{op}$とする。<br>\n",
        "$\\mathcal{C}^{op}$上のモナド$(T,η,μ)$は次のように構成される。<br>\n",
        "$T:\\mathcal{C}^{op}→\\mathcal{C}^{op}$<br>\n",
        "$η:Id_{\\mathcal{C}^{op}}→T$<br>\n",
        "$μ:T∘T→T$<br>\n",
        "また、これらは<br>\n",
        "結合律 : $μ∘Tμ=μ∘μT$<br>\n",
        "単位律 : $μ∘Tη=Id_T=μ∘ηT$<br>\n",
        "を満たす。<br>\n",
        "ここで、$\\mathcal{C}^{op}$上の射$f^{op}:Y→X$に対して$G$を$G(f)=T(f^{op})$と定義すると$G$は$T$に対応する$\\mathcal{C}$上の関手$G:\\mathcal{C}→\\mathcal{C}$になる。<br>\n",
        "また、$ϵ,σ$を$ϵ_X=η^{op}_X$ , $σ_X=μ^{op}_X$と定義することで\n",
        "$η$は$\\mathcal{C}$上コモナドの余単位自然変換$ϵ:G→Id_\\mathcal{C}$、$μ$は余結合自然変換$δ:G→G∘G$に対応する。<br>\n",
        "これらは、コモナド上の余結合律、余単位律を満たす。<br>\n",
        "したがって$\\mathcal{C}^{op}$上のモナド$(T,η,μ)$に対応する$\\mathcal{C}$上の構造$(G,ϵ,σ)$はコモナドの条件を満たし、$\\mathcal{C}^{op}$上のモナドは$\\mathcal{C}$上のコモナドになる。  ■\n",
        "\n"
      ],
      "metadata": {
        "id": "R4ADQowCy8na"
      }
    }
  ]
}