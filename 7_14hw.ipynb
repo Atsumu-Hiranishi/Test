{
  "nbformat": 4,
  "nbformat_minor": 0,
  "metadata": {
    "colab": {
      "provenance": [],
      "authorship_tag": "ABX9TyNXAVHR8UZGScwt3KFDMqm5",
      "include_colab_link": true
    },
    "kernelspec": {
      "name": "python3",
      "display_name": "Python 3"
    },
    "language_info": {
      "name": "python"
    }
  },
  "cells": [
    {
      "cell_type": "markdown",
      "metadata": {
        "id": "view-in-github",
        "colab_type": "text"
      },
      "source": [
        "<a href=\"https://colab.research.google.com/github/Atsumu-Hiranishi/Test/blob/main/7_14hw.ipynb\" target=\"_parent\"><img src=\"https://colab.research.google.com/assets/colab-badge.svg\" alt=\"Open In Colab\"/></a>"
      ]
    },
    {
      "cell_type": "markdown",
      "source": [
        "プログラマのためのモナド入門　まとめ\n",
        "\n",
        "##圏\n",
        "圏とは数学的構造を取り扱うための枠組みであり、数学的対象をあらわす対象と<br>\n",
        "それらの間の関係を表す射の集まりによって与えられる。\n",
        "圏はそれ自体、群に類似した代数学的構造として理解することが出来る。\n",
        "\n",
        "##関手\n",
        "関手とは圏から圏への構造と両立する対応付けのこと<br>\n",
        "圏Ｃから圏Ｄへの関手FはＣの各対象ＸをＤの各対象Ｆ(Ｘ)に対応させる。<br>\n",
        "X,Y∈ＣとしてＣにおける射f:X→YをＤにおける射F(f):F(X)→F(Y)に対応させる。<br>\n",
        "任意の射f:X→Y及びg:Y→Zに対してF(g∘f)=F(g)∘F(f)がなりたつ。<br>\n",
        "また、圏Ｃ,Ｄ,Ｅに対し、関手F:C→D,G:D→Eを考える時、ＣからＥへの関手はG∘Fとしてとらえることが出来る。関手には結合律がなりたつ。\n",
        "\n",
        "#自然変換\n",
        "圏Ｃ,Ｄの間に複数の関手があるとき、関手同士の変換がありそれを自然変換という。<br>\n",
        "関手をF,G,Hとし、FからGへの自然変換をα、GからHへの自然変換をβとおく。\n",
        "Ｃにおける射f:X→Yに対して、Ｄにおける射F(f):F(X)→F(Y),G(f):G(X)→G(Y),H(f):H(X)→H(Y)がある。これらのFとGの間にも同様にαという関係がなりたつ。<br>\n",
        "またα,βを合成したβ∘αはFからHへの自然変換を表す。\n",
        "\n",
        "#関手圏\n",
        "圏Ｃから圏Ｄへの関手全体とそれらの間の自然変換に注目したとき、これらを圏としてみなすことが出来る。これを関手圏といいＤ＾Ｃとして表す。\n",
        "\n",
        "#モノイド\n",
        "モノイドとはひとつの二項演算と単位元をもつ代数的構造のこと。\n",
        "\n",
        "#モノイド対象\n",
        "モノイド対象とは圏Ｃがあたえられたとき、C の対象 M および二つの射（乗法: μ: M ⊗ M → M および単位射: η: I → M ）の組のこと。\n",
        "\n",
        "#モナド\n",
        "モナドとは自己関手の圏におけるモノイド対象のこと。\n",
        "\n",
        "#モナドからクライリス圏への対応\n",
        "圏Ｃ上のクライリス圏とは関手T:Ｃ→Ｃ,自然変換η、射f:A→TBに対して射f':TA→TBを与える演算子-からなる(T,η,-)のこと。\n",
        "モナドは(T,η,μ)であるから-とμの対応付けが必要である。<br>\n",
        "ここで写像-:HomA(A,TB)→HomA(TA,TB)をf'=μB∘Tfで定義するとモナドをクライリス圏として対応させることが出来る。\n"
      ],
      "metadata": {
        "id": "cu825tsQ52UH"
      }
    }
  ]
}