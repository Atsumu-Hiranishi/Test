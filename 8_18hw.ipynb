{
  "nbformat": 4,
  "nbformat_minor": 0,
  "metadata": {
    "colab": {
      "provenance": [],
      "authorship_tag": "ABX9TyM612MAKXX3IDM/mdNCL/22",
      "include_colab_link": true
    },
    "kernelspec": {
      "name": "python3",
      "display_name": "Python 3"
    },
    "language_info": {
      "name": "python"
    }
  },
  "cells": [
    {
      "cell_type": "markdown",
      "metadata": {
        "id": "view-in-github",
        "colab_type": "text"
      },
      "source": [
        "<a href=\"https://colab.research.google.com/github/Atsumu-Hiranishi/Test/blob/main/8_18hw.ipynb\" target=\"_parent\"><img src=\"https://colab.research.google.com/assets/colab-badge.svg\" alt=\"Open In Colab\"/></a>"
      ]
    },
    {
      "cell_type": "markdown",
      "source": [
        "#MonadとKleisli tripleの同値性について\n",
        "prf.<br>\n",
        "以下の条件(1),(2),(3)を満たすKleisli triple $(T,η,\\#)$ が与えられたとする。<br>\n",
        "$f^\\#∘ηA=f$―――(1)<br>\n",
        "$η^\\#_A=id_{TA}$―――(2)<br>\n",
        "$g^\\#∘f^\\#=(g^\\#∘f)^\\#$―――(3)<br>\n",
        "ここで、#は$f:A→TA$を$f^\\#:TA→TB$に変換する写像の族である。<br>\n",
        "射$f:A→B$に対して$T$による射の変換を定義する。<br>\n",
        "$Tf:=(η_B∘f)^\\#$―――(4)<br>\n",
        "$f$,$g:B→C$に対して<br>\n",
        "$T(g∘f)=(η_C∘(g∘f))^\\#$<br>\n",
        "$Tg∘Tf=(η_C∘g)^\\#∘(η_B∘f)^\\#$<br>\n",
        "　　　　 $=((η_C∘g)^\\#∘η_B∘f)^\\#$　　(∵(3))<br>\n",
        "　　　　 $=(η_C∘g)∘f)^\\#$　　(∵(1))<br>\n",
        "したがって、$T(g∘f)=Tg∘Tf$<br>\n",
        "また、$T(id_A)=(η_A∘id_A)^\\#=id_A$　　(∵(2))<br>\n",
        "したがって、$T$は関手の条件を満たしており、自己関手になる。<br>\n",
        "射の族$μ$を次で定義する。<br>\n",
        "$μ_A=id^\\#_{TA}$―――(5)<br>\n",
        "(1)～(5)より<br>\n",
        "$Tf∘η_A=(η_B∘f)^\\#∘η_A=η_B∘f$<br>\n",
        "$μ_B∘T^2f=id^\\#_{TB}∘(η_{TB}∘Tf)^\\#$<br>\n",
        "　　　　　$=(id^\\#_{TB}∘η_{TB}∘Tf)^\\#$<br>\n",
        "　　　　　$=(id_{TB}∘Tf)^\\#$<br>\n",
        "　　　　　$=(Tf)^\\#$<br>\n",
        "$μ_A∘Tη_A=id^\\#_{TA}∘(η_{TA}∘η_A)^\\#$<br>\n",
        "　　　　　$=(id^\\#_{TA}∘η_{TA}∘η_A)^\\#$<br>\n",
        "　　　　　$=(id_{TA}∘η_A)^\\#$<br>\n",
        "　　　　　$=η^\\#_A$<br>\n",
        "　　　　　$=id_{TA}$<br>\n",
        "$μ_A∘Tμ_A=id^\\#_{TA}∘(η_{TA}∘μ_A)^\\#$<br>\n",
        "　　　　　 $=(id^\\#_{TA}∘η_{TA}∘μ_A)^\\#$<br>\n",
        "　　　　　 $=(id^\\#_{TA})^\\#$<br>\n",
        "$μ_A∘μ_{TA}=id^\\#_{TA}∘id^\\#_{T^2A}$<br>\n",
        "　　　　　$=(id^\\#_{TA}∘id_{T^2A})^\\#$<br>\n",
        "　　　　　$=(id^\\#_{TA})^\\#$<br>\n",
        "が成立し、これはMonadの条件<br>\n",
        "- $η_B∘f=Tf∘η_A$\n",
        "- $μ_B∘T^2f=Tf∘μ_A$\n",
        "- $μ_A∘η_{TA}=id{TA}$\n",
        "- $μ_A∘Tη_A=id_{TA}$\n",
        "- $μ_A∘Tμ_A=μ_A∘μ_{TA}$<br>\n",
        "と同値である。<br>\n",
        "次に、Monad$(T,η,μ)$が与えられたとき、射$f:A→TB$に対し、演算$\\#$を次のように定義する。<br>\n",
        "$f^\\#:=μ_B∘Tf$<br>\n",
        "前述と同様の計算によりMonadの条件からKleisli tripleの条件(1)～(3)を導くことができる。<br>\n",
        "以上より同値性が示せた。   ■\n",
        "\n",
        "\n",
        "\n"
      ],
      "metadata": {
        "id": "VwoRXDceWsZR"
      }
    }
  ]
}